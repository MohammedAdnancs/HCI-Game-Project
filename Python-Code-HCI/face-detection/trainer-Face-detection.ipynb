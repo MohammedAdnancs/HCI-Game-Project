{
 "cells": [
  {
   "cell_type": "code",
   "execution_count": 4,
   "metadata": {},
   "outputs": [
    {
     "name": "stdout",
     "output_type": "stream",
     "text": [
      "Requirement already satisfied: opencv-contrib-python in c:\\users\\medoa\\appdata\\local\\programs\\python\\python311\\lib\\site-packages (4.10.0.84)\n",
      "Requirement already satisfied: numpy>=1.21.2 in c:\\users\\medoa\\appdata\\local\\programs\\python\\python311\\lib\\site-packages (from opencv-contrib-python) (2.0.2)\n",
      "Note: you may need to restart the kernel to use updated packages.\n"
     ]
    },
    {
     "name": "stderr",
     "output_type": "stream",
     "text": [
      "\n",
      "[notice] A new release of pip available: 22.3 -> 24.3.1\n",
      "[notice] To update, run: python.exe -m pip install --upgrade pip\n"
     ]
    }
   ],
   "source": [
    "pip install opencv-contrib-python"
   ]
  },
  {
   "cell_type": "code",
   "execution_count": 5,
   "metadata": {},
   "outputs": [],
   "source": [
    "import cv2\n",
    "import numpy as np\n",
    "from PIL import Image\n",
    "import os"
   ]
  },
  {
   "cell_type": "code",
   "execution_count": 6,
   "metadata": {},
   "outputs": [
    {
     "name": "stdout",
     "output_type": "stream",
     "text": [
      "\n",
      "[INFO] Training...\n",
      "\n",
      "[INFO] 1 faces trained. Exiting Program\n"
     ]
    }
   ],
   "source": [
    "if __name__ == \"__main__\":\n",
    "    \n",
    "    # Directory path where the face images are stored.\n",
    "    path = './images/'\n",
    "    recognizer = cv2.face.LBPHFaceRecognizer_create()\n",
    "    print(\"\\n[INFO] Training...\")\n",
    "    # Haar cascade file for face detection\n",
    "    detector = cv2.CascadeClassifier(\"haarcascade_frontalface_default.xml\")\n",
    "    \n",
    "    def getImagesAndLabels(path):\n",
    "        \"\"\"\n",
    "        Load face images and corresponding labels from the given directory path.\n",
    "    \n",
    "        Parameters:\n",
    "            path (str): Directory path containing face images.\n",
    "    \n",
    "        Returns:\n",
    "            list: List of face samples.\n",
    "            list: List of corresponding labels.\n",
    "        \"\"\"\n",
    "        imagePaths = [os.path.join(path, f) for f in os.listdir(path)]\n",
    "        faceSamples = []\n",
    "        ids = []\n",
    "    \n",
    "        for imagePath in imagePaths:\n",
    "            # Convert image to grayscale\n",
    "            PIL_img = Image.open(imagePath).convert('L')\n",
    "            img_numpy = np.array(PIL_img, 'uint8')\n",
    "            \n",
    "            # Extract the user ID from the image file name\n",
    "            id = int(os.path.split(imagePath)[-1].split(\"-\")[1])\n",
    "    \n",
    "            # Detect faces in the grayscale image\n",
    "            faces = detector.detectMultiScale(img_numpy)\n",
    "    \n",
    "            for (x, y, w, h) in faces:\n",
    "                # Extract face region and append to the samples\n",
    "                faceSamples.append(img_numpy[y:y+h, x:x+w])\n",
    "                ids.append(id)\n",
    "    \n",
    "        return faceSamples, ids\n",
    "    \n",
    "    faces, ids = getImagesAndLabels(path)\n",
    "    \n",
    "    # Train the recognizer with the face samples and corresponding labels\n",
    "    recognizer.train(faces, np.array(ids))\n",
    "    \n",
    "    # Save the trained model into the current directory\n",
    "    recognizer.write('trainer.yml')\n",
    "    \n",
    "    print(\"\\n[INFO] {0} faces trained. Exiting Program\".format(len(np.unique(ids))))\n"
   ]
  }
 ],
 "metadata": {
  "kernelspec": {
   "display_name": "Python 3",
   "language": "python",
   "name": "python3"
  },
  "language_info": {
   "codemirror_mode": {
    "name": "ipython",
    "version": 3
   },
   "file_extension": ".py",
   "mimetype": "text/x-python",
   "name": "python",
   "nbconvert_exporter": "python",
   "pygments_lexer": "ipython3",
   "version": "3.11.0"
  }
 },
 "nbformat": 4,
 "nbformat_minor": 2
}
