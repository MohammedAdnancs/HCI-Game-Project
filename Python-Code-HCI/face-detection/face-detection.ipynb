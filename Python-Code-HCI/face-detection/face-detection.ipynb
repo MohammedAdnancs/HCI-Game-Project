{
 "cells": [
  {
   "cell_type": "code",
   "execution_count": 1,
   "metadata": {},
   "outputs": [],
   "source": [
    "import cv2\n",
    "import numpy as np\n",
    "import json\n",
    "import socket\n",
    "import threading\n",
    "import time  # Import time module for tracking elapsed time\n"
   ]
  },
  {
   "cell_type": "code",
   "execution_count": 2,
   "metadata": {},
   "outputs": [],
   "source": [
    "# Server details\n",
    "SERVER_ADDRESS = 'DESKTOP-28SQ46K'  # Replace with the actual server address\n",
    "SERVER_PORT = 8001\n",
    "last_sent_message = \"\""
   ]
  },
  {
   "cell_type": "code",
   "execution_count": 3,
   "metadata": {},
   "outputs": [],
   "source": [
    "# Function to handle receiving messages from the server\n",
    "def receive_messages(sock):\n",
    "    while True:\n",
    "        try:\n",
    "            message = sock.recv(1024).decode('utf-8')\n",
    "            if message:\n",
    "                print(f\"Received from server: {message}\")\n",
    "            else:\n",
    "                break\n",
    "        except Exception as e:\n",
    "            print(f\"Error receiving message: {e}\")\n",
    "        breaks"
   ]
  },
  {
   "cell_type": "code",
   "execution_count": 4,
   "metadata": {},
   "outputs": [],
   "source": [
    "# Function to start the client and connect to the server\n",
    "def start_client():\n",
    "    client_socket = socket.socket(socket.AF_INET, socket.SOCK_STREAM)\n",
    "    try:\n",
    "        client_socket.connect((SERVER_ADDRESS, SERVER_PORT))\n",
    "        print(\"Connected to the server.\")\n",
    "\n",
    "        # Start a thread to listen for messages from the server\n",
    "        threading.Thread(target=receive_messages, args=(client_socket,), daemon=True).start()\n",
    "\n",
    "        return client_socket\n",
    "\n",
    "    except Exception as e:\n",
    "        print(f\"Failed to connect to the server: {e}\")\n",
    "        return None"
   ]
  },
  {
   "cell_type": "code",
   "execution_count": 5,
   "metadata": {},
   "outputs": [],
   "source": [
    "# Function to send recognized name to the server\n",
    "def send_recognized_name(name, client_socket):\n",
    "    message = \"\"\n",
    "    if client_socket:\n",
    "        try:\n",
    "            message =f\"SENDTO:1|RECOGNIZED:{name}\"\n",
    "            client_socket.send(message.encode('utf-8'))\n",
    "            print(f\"Sent: {message}\")\n",
    "        except Exception as e:\n",
    "            print(f\"Error sending message: {e}\")"
   ]
  },
  {
   "cell_type": "code",
   "execution_count": 6,
   "metadata": {},
   "outputs": [
    {
     "name": "stdout",
     "output_type": "stream",
     "text": [
      "Connected to the server.\n"
     ]
    },
    {
     "name": "stderr",
     "output_type": "stream",
     "text": [
      "Exception in thread Thread-3 (receive_messages):\n",
      "Traceback (most recent call last):\n",
      "  File \"c:\\Users\\medoa\\AppData\\Local\\Programs\\Python\\Python311\\Lib\\threading.py\", line 1038, in _bootstrap_inner\n",
      "    self.run()\n",
      "  File \"C:\\Users\\medoa\\AppData\\Roaming\\Python\\Python311\\site-packages\\ipykernel\\ipkernel.py\", line 766, in run_closure\n",
      "    _threading_Thread_run(self)\n",
      "  File \"c:\\Users\\medoa\\AppData\\Local\\Programs\\Python\\Python311\\Lib\\threading.py\", line 975, in run\n",
      "    self._target(*self._args, **self._kwargs)\n",
      "  File \"C:\\Users\\medoa\\AppData\\Local\\Temp\\ipykernel_4868\\1331520512.py\", line 12, in receive_messages\n",
      "NameError: name 'breaks' is not defined\n"
     ]
    },
    {
     "name": "stdout",
     "output_type": "stream",
     "text": [
      "Sent: SENDTO:1|RECOGNIZED:MohammedAdnan\n",
      "Received from server: Message received!\n",
      "Sent: SENDTO:1|RECOGNIZED:MohammedAdnan\n",
      "Sent: SENDTO:1|RECOGNIZED:MohammedAdnan\n",
      "\n",
      " [INFO] Exiting Program.\n"
     ]
    }
   ],
   "source": [
    "if __name__ == \"__main__\":\n",
    "    # Start the client connection\n",
    "    client_socket = start_client()\n",
    "    if not client_socket:\n",
    "        exit(1)\n",
    "\n",
    "    # Create LBPH Face Recognizer\n",
    "    recognizer = cv2.face.LBPHFaceRecognizer_create()\n",
    "    # Load the trained model\n",
    "    recognizer.read('trainer.yml')\n",
    "\n",
    "    # Path to the Haar cascade file for face detection\n",
    "    face_cascade_Path = \"haarcascade_frontalface_default.xml\"\n",
    "    # Create a face cascade classifier\n",
    "    faceCascade = cv2.CascadeClassifier(face_cascade_Path)\n",
    "\n",
    "    # Font for displaying text on the image\n",
    "    font = cv2.FONT_HERSHEY_SIMPLEX\n",
    "\n",
    "    # Initialize user IDs and associated names\n",
    "    names = ['None']\n",
    "    with open('names.json', 'r') as fs:\n",
    "        names = json.load(fs)\n",
    "        names = list(names.values())\n",
    "\n",
    "    # Video Capture from the default camera (camera index 0)\n",
    "    cam = cv2.VideoCapture(0)\n",
    "    cam.set(3, 640)  # Set width\n",
    "    cam.set(4, 480)  # Set height\n",
    "\n",
    "    # Minimum width and height for the window size to be recognized as a face\n",
    "    minW = 0.1 * cam.get(3)\n",
    "    minH = 0.1 * cam.get(4)\n",
    "\n",
    "    # Create the window\n",
    "    cv2.namedWindow('camera', cv2.WINDOW_NORMAL)\n",
    "    # Resize the window\n",
    "    cv2.resizeWindow('camera', 640, 480)  # Change the values as needed (e.g., 320, 240 for a smaller window)\n",
    "\n",
    "    last_sent_time = time.time()  # Initialize the timer\n",
    "    \n",
    "    while True:\n",
    "        name = \"\"\n",
    "        # Read a frame from the camera\n",
    "        ret, img = cam.read()\n",
    "        gray = cv2.cvtColor(img, cv2.COLOR_BGR2GRAY)\n",
    "\n",
    "        # Detect faces in the frame\n",
    "        faces = faceCascade.detectMultiScale(\n",
    "            gray,\n",
    "            scaleFactor=1.2,\n",
    "            minNeighbors=5,\n",
    "            minSize=(int(minW), int(minH)),\n",
    "        )\n",
    "\n",
    "        for (x, y, w, h) in faces:\n",
    "            # Draw a rectangle around the detected face\n",
    "            cv2.rectangle(img, (x, y), (x + w, y + h), (0, 255, 0), 2)\n",
    "\n",
    "            # Recognize the face using the trained model\n",
    "            id, confidence = recognizer.predict(gray[y:y + h, x:x + w])\n",
    "\n",
    "            if confidence > 10:\n",
    "                try:\n",
    "                    # Recognized face\n",
    "                    name = names[id]\n",
    "                    confidence_text = \"  {0}%\".format(round(confidence))\n",
    "                except IndexError:\n",
    "                    name = \"Who are you?\"\n",
    "                    confidence_text = \"N/A\"\n",
    "            else:\n",
    "                # Unknown face\n",
    "                name = \"Who are you?\"\n",
    "                confidence_text = \"N/A\"\n",
    "\n",
    "            # Check if 5 seconds have passed since the last recognition\n",
    "            current_time = time.time()\n",
    "            if current_time - last_sent_time >= 5:\n",
    "                # Send the recognized name to the server\n",
    "                send_recognized_name(name, client_socket)\n",
    "                last_sent_time = current_time  # Update the timer\n",
    "\n",
    "            # Display the recognized name and confidence level on the image\n",
    "            cv2.putText(img, name, (x + 5, y - 5), font, 1, (255, 255, 255), 2)\n",
    "            cv2.putText(img, confidence_text, (x + 5, y + h - 5), font, 1, (255, 255, 0), 1)\n",
    "\n",
    "        # Display the image with rectangles around faces\n",
    "        cv2.imshow('camera', img)\n",
    "\n",
    "        # Press Escape or 'q' to exit the webcam/program\n",
    "        k = cv2.waitKey(10) & 0xff\n",
    "        if k == 27 or k == ord('q'):  # 27 is the Escape key; ord('q') checks for 'q'\n",
    "            break\n",
    "\n",
    "    print(\"\\n [INFO] Exiting Program.\")\n",
    "    # Release the camera\n",
    "    cam.release()\n",
    "    # Close all OpenCV windows\n",
    "    cv2.destroyAllWindows()\n"
   ]
  }
 ],
 "metadata": {
  "kernelspec": {
   "display_name": "Python 3",
   "language": "python",
   "name": "python3"
  },
  "language_info": {
   "codemirror_mode": {
    "name": "ipython",
    "version": 3
   },
   "file_extension": ".py",
   "mimetype": "text/x-python",
   "name": "python",
   "nbconvert_exporter": "python",
   "pygments_lexer": "ipython3",
   "version": "3.11.0"
  }
 },
 "nbformat": 4,
 "nbformat_minor": 2
}
